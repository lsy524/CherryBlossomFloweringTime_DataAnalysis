{
 "cells": [
  {
   "cell_type": "code",
   "execution_count": null,
   "metadata": {},
   "outputs": [],
   "source": [
    "fig, ax = plt.subplots(1,2,figsize=(12, 7)) \n",
    "grid = plt.GridSpec(1,2)\n",
    "\n",
    "def bar_text(bar):\n",
    "    for rect in bar:\n",
    "        height = rect.get_height()\n",
    "        result = plt.text(rect.get_x() + rect.get_width()/2.0, height, '%.2f' % height, ha='center', va='bottom', size = 12)\n",
    "    return result\n",
    "\n",
    "bar = plt.subplot(grid[0,:]).bar(year_5, low_5years, color=\"b\",width=1, alpha=0.5,label = '평균기온')  \n",
    "bar_text(bar) \n",
    "plt.title(\"1950 ~ 2021년 목포 5년 주기 벚나무 개화시기, 평균온도 비교\", fontsize=18)\n",
    "plt.xlabel(\"연도\",fontsize=13) \n",
    "plt.ylabel(\"기온\",fontsize=13) \n",
    "plt.legend() \n",
    "\n",
    "ax1 =  plt.twinx() \n",
    "ax1.plot(year_5, result_data_5,'y:o', label = '개화시기') \n",
    "ax1.scatter(year_5[result_data_5.index(max(result_data_5))], result_data_5[result_data_5.index(max(result_data_5))], color=\"b\",linewidth=5)  \n",
    "ax1.scatter(year_5[result_data_5.index(min(result_data_5))], result_data_5[result_data_5.index(min(result_data_5))], color=\"r\",linewidth=5)  \n",
    "plt.ylabel(\"요일\",fontsize=13) \n",
    "ax1.legend(loc=\"center right\") \n",
    "\n",
    "fig.tight_layout() \n",
    "plt.show()"
   ]
  }
 ],
 "metadata": {
  "kernelspec": {
   "display_name": "Python 3.10.2 64-bit",
   "language": "python",
   "name": "python3"
  },
  "language_info": {
   "name": "python",
   "version": "3.10.2"
  },
  "orig_nbformat": 4,
  "vscode": {
   "interpreter": {
    "hash": "afb734500600fd355917ca529030176ea0ca205570884b88f2f6f7d791fd3fbe"
   }
  }
 },
 "nbformat": 4,
 "nbformat_minor": 2
}
