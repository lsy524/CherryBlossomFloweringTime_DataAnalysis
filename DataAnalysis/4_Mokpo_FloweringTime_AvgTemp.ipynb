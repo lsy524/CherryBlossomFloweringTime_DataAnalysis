{
 "cells": [
  {
   "cell_type": "markdown",
   "metadata": {},
   "source": [
    "## **목포 벚꽃 개화시기 및 평균 기온 비교**\n",
    "---\n",
    "\n",
    "*   가장 높은 평균 기온을 기록한 2020년대와 그 다음 높은 기온을 기록한 2015 ~ 2019년도가 가장 빨리 개화한 것을 확인할 수 있다.\n",
    "\n",
    "*   가장 낮은 평균 기온을 기록한 1970 ~ 1974년도와 그 다음 낮은 온도를 기록한 1965 ~ 1969년도가 가장 늦게 개화를 한 것을 확인할 수 있다. \n",
    "\n",
    "*  5년 평균 전년대비 온도가 가장 많이 올라간 년도는 2015 ~ 2019년도 이다. 2015 ~ 2019년에는 전년대비 온도가 0.98도가 올랐고 개화시기는 6일 앞당겨졌다. 두번째로 가장 많이 올라간 연도는 1990 ~ 1994년도 이다. 1990 ~ 1994년에는 온도가 0.68도 상승했고 개화시기는 7일 앞당겨졌다. \n",
    "\n",
    "*  전년대비 온도가 가장 많이 낮아진 연도는 1965  ~ 1969년도 이다. 1965  ~ 1969년도에는 온도가 0.64도 감소했고 또한 6일 늦게 개화한 것을 볼 수 있다. "
   ]
  },
  {
   "cell_type": "code",
   "execution_count": null,
   "metadata": {},
   "outputs": [],
   "source": [
    "# 차트나 그래프를 그릴 위치(공간)을 만드는 코드 \n",
    "fig, ax = plt.subplots(1,2,figsize=(12, 7)) \n",
    "grid = plt.GridSpec(1,2)\n",
    "\n",
    "# 그래프마다 해당 값 표시하는 함수 \n",
    "def bar_text(bar):\n",
    "    for rect in bar:\n",
    "        height = rect.get_height()\n",
    "        result = plt.text(rect.get_x() + rect.get_width()/2.0, height, '%.2f' % height, ha='center', va='bottom', size = 12)\n",
    "    return result\n",
    "\n",
    "# 범위 (0,0), (0,1)을 묶어 평균 기온을 막대 그래프로 표현\n",
    "bar = plt.subplot(grid[0,:]).bar(year_5, low_5years, color=\"b\",width=1, alpha=0.5,label = '평균기온')  # 막대 그래프 색 blue, 넓이 100%, 투명도 0.5, 라벨 평균기온\n",
    "bar_text(bar) # bar_text 함수를 실행해서 그래프마다 해당 값 표시하는 코드\n",
    "plt.title(\"1950 ~ 2021년 목포 5년 주기 벚나무 개화시기, 평균온도 비교\", fontsize=18)# 그래프 제목, 라벨 크기는 18\n",
    "plt.xlabel(\"연도\",fontsize=13) # x축 label, 라벨 크기는 13\n",
    "plt.ylabel(\"기온\",fontsize=13) # y축 label, 라벨 크기는 13\n",
    "plt.legend() # 범례 표시\n",
    "\n",
    "#  5년 평균 개화시기 선 그래프로 표현 \n",
    "ax1 =  plt.twinx() # x축을 공유하고, y축을 오른쪽에 표시해주는 새로운 축객체 생성\n",
    "ax1.plot(year_5, result_data_5,'y:o', label = '개화시기') # 그래프 선 색 yellow, 선 종류 :, 마커는 o로 표시, 라벨 개화시기 \n",
    "ax1.scatter(year_5[result_data_5.index(max(result_data_5))], result_data_5[result_data_5.index(max(result_data_5))], color=\"b\",linewidth=5) # 개화시기 중 가장 늦게 개화한 요일 정점 표시 코드 \n",
    "ax1.scatter(year_5[result_data_5.index(min(result_data_5))], result_data_5[result_data_5.index(min(result_data_5))], color=\"r\",linewidth=5) # 개화시기 중 가장 빨리 개화한 요일 정점 표시 코드 \n",
    "plt.ylabel(\"요일\",fontsize=13) # y축 label, 라벨 크기는 13\n",
    "ax1.legend(loc=\"center right\") # 범례 표시\n",
    "\n",
    "fig.tight_layout() # 여백 조정\n",
    "plt.show() # 그래프 나타내기"
   ]
  }
 ],
 "metadata": {
  "kernelspec": {
   "display_name": "Python 3.10.2 64-bit",
   "language": "python",
   "name": "python3"
  },
  "language_info": {
   "name": "python",
   "version": "3.10.2"
  },
  "orig_nbformat": 4,
  "vscode": {
   "interpreter": {
    "hash": "afb734500600fd355917ca529030176ea0ca205570884b88f2f6f7d791fd3fbe"
   }
  }
 },
 "nbformat": 4,
 "nbformat_minor": 2
}
