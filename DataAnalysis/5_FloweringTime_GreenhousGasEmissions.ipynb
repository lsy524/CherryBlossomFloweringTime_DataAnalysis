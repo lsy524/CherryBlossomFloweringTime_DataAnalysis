{
 "cells": [
  {
   "cell_type": "markdown",
   "metadata": {},
   "source": [
    "## **1990 ~ 2019년 사이 목포 벚꽃 개화시기 및 전라남도 온실가스 배출량 비교**\n",
    "---\n",
    "\n",
    "*   5년 평균 전년대비 배출량이 가장 많이 증가한 년도는 2010 ~ 2014년도 이다. 2010 ~ 2014년 이후 2015 ~ 2019년도 봄꽃 개화시기를 보면 약 6일 앞당겨진 것을 확인할 수 있다. \n",
    "두번째로 배출량이 가장 많이 증가한 년도는 1995 ~ 1999년도 이다. \n",
    "1995 ~ 1999년 이후 2000 ~ 2004년도 봄꽃 개화시기를 보면 약 3일 앞당겨진 것을 확인할 수 있다. \n",
    "\n",
    "*   전년대비 배출량이 가장 적게 증가한 년도는 2005 ~ 2009년도 이다.\n",
    "2005 ~ 2009년 이후 2010 ~ 2014년도 봄꽃 개화시기를 보면 전년도 평균이랑 개화시기가 같은 것을 확인할 수 있다. \n",
    "두번째로 배출량이 가장 적게 증가한 년도는 2000 ~ 2004년도 이다. \n",
    "2000 ~ 2004년 이후 2005 ~ 2009년도 봄꽃 개화시기를 보면 약 5일 늦게 개화한 것을 확인할 수 있다.  "
   ]
  },
  {
   "cell_type": "code",
   "execution_count": null,
   "metadata": {},
   "outputs": [],
   "source": [
    "# 차트나 그래프를 그릴 위치(공간)을 만드는 코드 \n",
    "fig, ax = plt.subplots(1,2,figsize=(12, 5))\n",
    "grid = plt.GridSpec(1,2)\n",
    "\n",
    "# 그래프마다 해당 값 표시하는 함수 \n",
    "def bar_text(bar):\n",
    "    for rect in bar:\n",
    "        height = rect.get_height()\n",
    "        result = plt.text(rect.get_x() + rect.get_width()/2.0, height, '%.2f' % height, ha='center', va='bottom', size = 12)\n",
    "    return result\n",
    "\n",
    "# 1990 ~ 2019년 전라남도 탄소배출량 5년 평균 \n",
    "\n",
    "x = np.arange(len(ghg_year_5)) # x축 데이터 개수\n",
    "\n",
    "# 범위 (0,0), (0,1)을 묶어 5년 평균 온실가스 배출량을 막대 그래프로 출력 \n",
    "bar = plt.subplot(grid[0,:]).bar(x, low_5, color=\"b\", width=0.2, alpha=0.5, label=\"배출량\") # 그래프 색 blue, 넓이 20%, 투명도 0.5, 라벨 배출량\n",
    "bar_text(bar) # bar_text 함수를 실행해서 그래프마다 해당 값 표시하는 코드\n",
    "plt.title('1990 ~ 2019년 목포 5년 주기 벚나무 개화시기, 전라남도 온실가스 배출량 비교',fontsize=18) # 그래프 제목, 라벨 크기는 18\n",
    "plt.xlabel('연도',fontsize=13) # x축 label, 라벨 크기는 13\n",
    "plt.ylabel('총배출량',fontsize=13) # y축 label, 라벨 크기는 13\n",
    "plt.xticks(x,ghg_year_5) # xticks를 x 개수만큼 ghg_year_5을 label로 표현\n",
    "plt.legend()  # 범례 표시\n",
    "\n",
    "#  5년 평균 전년대비 증가율을 막대 그래프로 표현\n",
    "bar = plt.subplot(grid[0,:]).bar(x+0.2, result_low_5, color=\"r\", width=0.2, alpha=0.2,label=\"전년대비 증가율\") # x축 간격을 0.2를 더하여 표현, 그래프 색 red, 넓이 두께 20%, 투명도 0.2, 라벨 전년대비 증가율\n",
    "bar_text(bar) # bar_text 함수를 실행해서 그래프마다 해당 값 표시하는 코드\n",
    "plt.legend() # 범례 표시\n",
    "\n",
    "#  5년 평균 개화시기 선 그래프로 표현 \n",
    "ax1 =  plt.twinx() # x축을 공유하고, y축을 오른쪽에 표시해주는 새로운 축객체 생성\n",
    "ax1.plot(x, result_data_1990_5 ,'r:o', label = '개화시기') # 선 색 red, 선 종류 :, 마커는 o로 표시, 라벨 개화시기 \n",
    "plt.ylabel(\"요일\", fontsize=13) # y축 label\n",
    "ax1.legend(loc=\"center right\") # 범례 표시\n",
    "\n",
    "fig.tight_layout() # 여백 조정\n",
    "plt.show() # 그래프 나타내기"
   ]
  }
 ],
 "metadata": {
  "kernelspec": {
   "display_name": "Python 3.10.2 64-bit",
   "language": "python",
   "name": "python3"
  },
  "language_info": {
   "name": "python",
   "version": "3.10.2"
  },
  "orig_nbformat": 4,
  "vscode": {
   "interpreter": {
    "hash": "afb734500600fd355917ca529030176ea0ca205570884b88f2f6f7d791fd3fbe"
   }
  }
 },
 "nbformat": 4,
 "nbformat_minor": 2
}
